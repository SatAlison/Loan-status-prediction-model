{
 "cells": [
  {
   "cell_type": "markdown",
   "id": "d46fc949-fd19-4b25-8a25-ab06938346de",
   "metadata": {},
   "source": [
    "# Loan Status Prediction model\n",
    "\n",
    "## Project Overview\n",
    "The goal of this project is to develop a **machine learning model** to predict whether a loan will be **approved** or **denied** based on various factors. \n",
    "Additionally, the project aims to determine whether **log-transformed data** produces better results compared to the original data by analyzing and comparing the model's performance with both data types.\n",
    "\n",
    "## Objectives\n",
    "- Analyze historical loan data to uncover trends and patterns.\n",
    "- Identify key factors contributing to **loan approval** or **default**.\n",
    "- Build a **predictive model** to forecast loan outcomes (approved or denied).\n",
    "- Compare model performance to **choose the best model** for accurate loan prediction.\n",
    "- Evaluate the impact of using **log-transformed data** versus original data on model accuracy.\n",
    "- Test the model with **new data** to determine if a loan will be **approved or denied**.\n",
    "- Determine **feature Importance** for the selected model."
   ]
  },
  {
   "cell_type": "markdown",
   "id": "b94e5e64-bcbe-4b8d-8a54-824030e05627",
   "metadata": {},
   "source": [
    "### Import libraries"
   ]
  },
  {
   "cell_type": "code",
   "execution_count": 1,
   "id": "68244b75-4a1c-4c3c-8144-ba529980c525",
   "metadata": {},
   "outputs": [],
   "source": [
    "import pandas as pd\n",
    "import numpy as np\n",
    "import seaborn as sns\n",
    "import matplotlib.pyplot as plt\n",
    "from sklearn import svm\n",
    "from sklearn.tree import DecisionTreeClassifier\n",
    "from sklearn.ensemble import GradientBoostingClassifier\n",
    "from sklearn.preprocessing import StandardScaler, LabelEncoder\n",
    "from sklearn.model_selection import train_test_split, cross_val_score\n",
    "from sklearn.linear_model import LogisticRegression\n",
    "from sklearn.preprocessing import StandardScaler, LabelEncoder\n",
    "from sklearn.ensemble import RandomForestClassifier\n",
    "from sklearn.metrics import accuracy_score, confusion_matrix, classification_report\n"
   ]
  },
  {
   "cell_type": "markdown",
   "id": "06794927-ec41-45b9-a897-6eac939269e7",
   "metadata": {},
   "source": [
    "### read the loan dataset"
   ]
  },
  {
   "cell_type": "code",
   "execution_count": 2,
   "id": "bc368036-4f24-4aa6-96a8-09ad114eb280",
   "metadata": {},
   "outputs": [
    {
     "data": {
      "text/html": [
       "<div>\n",
       "<style scoped>\n",
       "    .dataframe tbody tr th:only-of-type {\n",
       "        vertical-align: middle;\n",
       "    }\n",
       "\n",
       "    .dataframe tbody tr th {\n",
       "        vertical-align: top;\n",
       "    }\n",
       "\n",
       "    .dataframe thead th {\n",
       "        text-align: right;\n",
       "    }\n",
       "</style>\n",
       "<table border=\"1\" class=\"dataframe\">\n",
       "  <thead>\n",
       "    <tr style=\"text-align: right;\">\n",
       "      <th></th>\n",
       "      <th>Loan_ID</th>\n",
       "      <th>Gender</th>\n",
       "      <th>Married</th>\n",
       "      <th>Dependents</th>\n",
       "      <th>Education</th>\n",
       "      <th>Self_Employed</th>\n",
       "      <th>ApplicantIncome</th>\n",
       "      <th>CoapplicantIncome</th>\n",
       "      <th>LoanAmount</th>\n",
       "      <th>Loan_Amount_Term</th>\n",
       "      <th>Credit_History</th>\n",
       "      <th>Property_Area</th>\n",
       "      <th>Loan_Status</th>\n",
       "    </tr>\n",
       "  </thead>\n",
       "  <tbody>\n",
       "    <tr>\n",
       "      <th>0</th>\n",
       "      <td>LP001002</td>\n",
       "      <td>Male</td>\n",
       "      <td>No</td>\n",
       "      <td>0</td>\n",
       "      <td>Graduate</td>\n",
       "      <td>No</td>\n",
       "      <td>5849</td>\n",
       "      <td>0.0</td>\n",
       "      <td>NaN</td>\n",
       "      <td>360.0</td>\n",
       "      <td>1.0</td>\n",
       "      <td>Urban</td>\n",
       "      <td>Y</td>\n",
       "    </tr>\n",
       "    <tr>\n",
       "      <th>1</th>\n",
       "      <td>LP001003</td>\n",
       "      <td>Male</td>\n",
       "      <td>Yes</td>\n",
       "      <td>1</td>\n",
       "      <td>Graduate</td>\n",
       "      <td>No</td>\n",
       "      <td>4583</td>\n",
       "      <td>1508.0</td>\n",
       "      <td>128.0</td>\n",
       "      <td>360.0</td>\n",
       "      <td>1.0</td>\n",
       "      <td>Rural</td>\n",
       "      <td>N</td>\n",
       "    </tr>\n",
       "    <tr>\n",
       "      <th>2</th>\n",
       "      <td>LP001005</td>\n",
       "      <td>Male</td>\n",
       "      <td>Yes</td>\n",
       "      <td>0</td>\n",
       "      <td>Graduate</td>\n",
       "      <td>Yes</td>\n",
       "      <td>3000</td>\n",
       "      <td>0.0</td>\n",
       "      <td>66.0</td>\n",
       "      <td>360.0</td>\n",
       "      <td>1.0</td>\n",
       "      <td>Urban</td>\n",
       "      <td>Y</td>\n",
       "    </tr>\n",
       "    <tr>\n",
       "      <th>3</th>\n",
       "      <td>LP001006</td>\n",
       "      <td>Male</td>\n",
       "      <td>Yes</td>\n",
       "      <td>0</td>\n",
       "      <td>Not Graduate</td>\n",
       "      <td>No</td>\n",
       "      <td>2583</td>\n",
       "      <td>2358.0</td>\n",
       "      <td>120.0</td>\n",
       "      <td>360.0</td>\n",
       "      <td>1.0</td>\n",
       "      <td>Urban</td>\n",
       "      <td>Y</td>\n",
       "    </tr>\n",
       "    <tr>\n",
       "      <th>4</th>\n",
       "      <td>LP001008</td>\n",
       "      <td>Male</td>\n",
       "      <td>No</td>\n",
       "      <td>0</td>\n",
       "      <td>Graduate</td>\n",
       "      <td>No</td>\n",
       "      <td>6000</td>\n",
       "      <td>0.0</td>\n",
       "      <td>141.0</td>\n",
       "      <td>360.0</td>\n",
       "      <td>1.0</td>\n",
       "      <td>Urban</td>\n",
       "      <td>Y</td>\n",
       "    </tr>\n",
       "  </tbody>\n",
       "</table>\n",
       "</div>"
      ],
      "text/plain": [
       "    Loan_ID Gender Married Dependents     Education Self_Employed  \\\n",
       "0  LP001002   Male      No          0      Graduate            No   \n",
       "1  LP001003   Male     Yes          1      Graduate            No   \n",
       "2  LP001005   Male     Yes          0      Graduate           Yes   \n",
       "3  LP001006   Male     Yes          0  Not Graduate            No   \n",
       "4  LP001008   Male      No          0      Graduate            No   \n",
       "\n",
       "   ApplicantIncome  CoapplicantIncome  LoanAmount  Loan_Amount_Term  \\\n",
       "0             5849                0.0         NaN             360.0   \n",
       "1             4583             1508.0       128.0             360.0   \n",
       "2             3000                0.0        66.0             360.0   \n",
       "3             2583             2358.0       120.0             360.0   \n",
       "4             6000                0.0       141.0             360.0   \n",
       "\n",
       "   Credit_History Property_Area Loan_Status  \n",
       "0             1.0         Urban           Y  \n",
       "1             1.0         Rural           N  \n",
       "2             1.0         Urban           Y  \n",
       "3             1.0         Urban           Y  \n",
       "4             1.0         Urban           Y  "
      ]
     },
     "execution_count": 2,
     "metadata": {},
     "output_type": "execute_result"
    }
   ],
   "source": [
    "data=pd.read_csv('loan_prediction.csv')\n",
    "data.head()"
   ]
  },
  {
   "cell_type": "markdown",
   "id": "c6251e51-0e92-4255-81e7-ab6dcbbbb11d",
   "metadata": {},
   "source": [
    "### Data Cleaning"
   ]
  },
  {
   "cell_type": "markdown",
   "id": "c9d101fc-6d14-4807-83ab-fb049be30f82",
   "metadata": {},
   "source": [
    "#### check the information of the dataset\n",
    "The dataset has 13 columns with 614 rows. There appears to be null values that need to be cleaned. "
   ]
  },
  {
   "cell_type": "code",
   "execution_count": 3,
   "id": "42e5fc74-d1e7-4213-a5eb-b8e00efdf170",
   "metadata": {},
   "outputs": [
    {
     "name": "stdout",
     "output_type": "stream",
     "text": [
      "<class 'pandas.core.frame.DataFrame'>\n",
      "RangeIndex: 614 entries, 0 to 613\n",
      "Data columns (total 13 columns):\n",
      " #   Column             Non-Null Count  Dtype  \n",
      "---  ------             --------------  -----  \n",
      " 0   Loan_ID            614 non-null    object \n",
      " 1   Gender             601 non-null    object \n",
      " 2   Married            611 non-null    object \n",
      " 3   Dependents         599 non-null    object \n",
      " 4   Education          614 non-null    object \n",
      " 5   Self_Employed      582 non-null    object \n",
      " 6   ApplicantIncome    614 non-null    int64  \n",
      " 7   CoapplicantIncome  614 non-null    float64\n",
      " 8   LoanAmount         592 non-null    float64\n",
      " 9   Loan_Amount_Term   600 non-null    float64\n",
      " 10  Credit_History     564 non-null    float64\n",
      " 11  Property_Area      614 non-null    object \n",
      " 12  Loan_Status        614 non-null    object \n",
      "dtypes: float64(4), int64(1), object(8)\n",
      "memory usage: 62.5+ KB\n"
     ]
    }
   ],
   "source": [
    "data.info()"
   ]
  },
  {
   "cell_type": "markdown",
   "id": "9be60b75-9ee9-4a9f-9842-16347d8bb2c4",
   "metadata": {},
   "source": [
    "#### Let's check the sum of the missing values in our columns"
   ]
  },
  {
   "cell_type": "code",
   "execution_count": 4,
   "id": "7a1f561a-7f49-46bb-89f8-2b99fc929604",
   "metadata": {},
   "outputs": [
    {
     "data": {
      "text/plain": [
       "Loan_ID               0\n",
       "Gender               13\n",
       "Married               3\n",
       "Dependents           15\n",
       "Education             0\n",
       "Self_Employed        32\n",
       "ApplicantIncome       0\n",
       "CoapplicantIncome     0\n",
       "LoanAmount           22\n",
       "Loan_Amount_Term     14\n",
       "Credit_History       50\n",
       "Property_Area         0\n",
       "Loan_Status           0\n",
       "dtype: int64"
      ]
     },
     "execution_count": 4,
     "metadata": {},
     "output_type": "execute_result"
    }
   ],
   "source": [
    "data.isnull().sum()"
   ]
  },
  {
   "cell_type": "markdown",
   "id": "4c384078-0945-4325-905d-eb6af508595e",
   "metadata": {},
   "source": [
    "#### Fill in the missing values with the most frequent value in the column.\n",
    "This method replaces missing values in a column with the most frequent value (mode) in that column. We use the mode because these columns (like Gender, Married, Self_Employed, etc.) likely represent categorical variables, where the most common category is a reasonable guess for filling in missing data. It helps prevent issues with missing values in the dataset while preserving the overall distribution of the data."
   ]
  },
  {
   "cell_type": "code",
   "execution_count": 5,
   "id": "d953f19f-9b83-40cd-899b-42c76b45609d",
   "metadata": {},
   "outputs": [],
   "source": [
    "data['Gender']= data['Gender'].fillna(data['Gender'].mode()[0])\n",
    "data['Married']= data['Married'].fillna(data['Married'].mode()[0])\n",
    "data['Self_Employed']= data['Self_Employed'].fillna(data['Self_Employed'].mode()[0])\n",
    "data['Dependents']= data['Dependents'].fillna(data['Dependents'].mode()[0])\n",
    "data['Loan_Amount_Term']= data['Loan_Amount_Term'].fillna(data['Loan_Amount_Term'].mode()[0])\n",
    "data['Credit_History']= data['Credit_History'].fillna(data['Credit_History'].mode()[0])\n"
   ]
  },
  {
   "cell_type": "code",
   "execution_count": 6,
   "id": "a7723331-2ad5-4231-bf57-9dc72c0fdda3",
   "metadata": {},
   "outputs": [
    {
     "data": {
      "text/html": [
       "<div>\n",
       "<style scoped>\n",
       "    .dataframe tbody tr th:only-of-type {\n",
       "        vertical-align: middle;\n",
       "    }\n",
       "\n",
       "    .dataframe tbody tr th {\n",
       "        vertical-align: top;\n",
       "    }\n",
       "\n",
       "    .dataframe thead th {\n",
       "        text-align: right;\n",
       "    }\n",
       "</style>\n",
       "<table border=\"1\" class=\"dataframe\">\n",
       "  <thead>\n",
       "    <tr style=\"text-align: right;\">\n",
       "      <th></th>\n",
       "      <th>Loan_ID</th>\n",
       "      <th>Gender</th>\n",
       "      <th>Married</th>\n",
       "      <th>Dependents</th>\n",
       "      <th>Education</th>\n",
       "      <th>Self_Employed</th>\n",
       "      <th>ApplicantIncome</th>\n",
       "      <th>CoapplicantIncome</th>\n",
       "      <th>LoanAmount</th>\n",
       "      <th>Loan_Amount_Term</th>\n",
       "      <th>Credit_History</th>\n",
       "      <th>Property_Area</th>\n",
       "      <th>Loan_Status</th>\n",
       "    </tr>\n",
       "  </thead>\n",
       "  <tbody>\n",
       "    <tr>\n",
       "      <th>0</th>\n",
       "      <td>LP001002</td>\n",
       "      <td>Male</td>\n",
       "      <td>No</td>\n",
       "      <td>0</td>\n",
       "      <td>Graduate</td>\n",
       "      <td>No</td>\n",
       "      <td>5849</td>\n",
       "      <td>0.0</td>\n",
       "      <td>NaN</td>\n",
       "      <td>360.0</td>\n",
       "      <td>1.0</td>\n",
       "      <td>Urban</td>\n",
       "      <td>Y</td>\n",
       "    </tr>\n",
       "  </tbody>\n",
       "</table>\n",
       "</div>"
      ],
      "text/plain": [
       "    Loan_ID Gender Married Dependents Education Self_Employed  \\\n",
       "0  LP001002   Male      No          0  Graduate            No   \n",
       "\n",
       "   ApplicantIncome  CoapplicantIncome  LoanAmount  Loan_Amount_Term  \\\n",
       "0             5849                0.0         NaN             360.0   \n",
       "\n",
       "   Credit_History Property_Area Loan_Status  \n",
       "0             1.0         Urban           Y  "
      ]
     },
     "execution_count": 6,
     "metadata": {},
     "output_type": "execute_result"
    }
   ],
   "source": [
    "data.head(1)"
   ]
  },
  {
   "cell_type": "markdown",
   "id": "cde2e416-b124-4d5d-9845-5a81190680e7",
   "metadata": {},
   "source": [
    "### Fill in the missing values in our LoanAmount column with the average value of the column\n",
    "We fill missing values in a loan column with the average to provide a good estimate for the missing data. The average represents the typical value in the column, helping to keep the overall data consistent and preventing gaps from affecting the analysis."
   ]
  },
  {
   "cell_type": "code",
   "execution_count": 7,
   "id": "33e6d328-454f-4d80-9556-b8f18deacc79",
   "metadata": {},
   "outputs": [],
   "source": [
    "data['LoanAmount']= data['LoanAmount'].fillna(data['LoanAmount'].mean())"
   ]
  },
  {
   "cell_type": "markdown",
   "id": "9ff3d95a-c97c-4817-9d03-fee1ee6ec730",
   "metadata": {},
   "source": [
    "There are no more missing data in our dataset\n",
    "\n"
   ]
  },
  {
   "cell_type": "code",
   "execution_count": 8,
   "id": "6b140eb6-0dc9-4ac7-ae76-a9cb8e39dd44",
   "metadata": {},
   "outputs": [
    {
     "data": {
      "text/plain": [
       "Loan_ID              False\n",
       "Gender               False\n",
       "Married              False\n",
       "Dependents           False\n",
       "Education            False\n",
       "Self_Employed        False\n",
       "ApplicantIncome      False\n",
       "CoapplicantIncome    False\n",
       "LoanAmount           False\n",
       "Loan_Amount_Term     False\n",
       "Credit_History       False\n",
       "Property_Area        False\n",
       "Loan_Status          False\n",
       "dtype: bool"
      ]
     },
     "execution_count": 8,
     "metadata": {},
     "output_type": "execute_result"
    }
   ],
   "source": [
    "data.isnull().any()"
   ]
  },
  {
   "cell_type": "markdown",
   "id": "87266abd-b9f4-4d72-bf28-0c7463fc9ab7",
   "metadata": {},
   "source": [
    "#### Lets's check for duplicates\n",
    "There are no duplicates"
   ]
  },
  {
   "cell_type": "code",
   "execution_count": 9,
   "id": "f1ab93b7-b0d7-4a6d-aaa1-a6d00cf59c46",
   "metadata": {},
   "outputs": [
    {
     "data": {
      "text/plain": [
       "False"
      ]
     },
     "execution_count": 9,
     "metadata": {},
     "output_type": "execute_result"
    }
   ],
   "source": [
    "data.duplicated().any()"
   ]
  },
  {
   "cell_type": "markdown",
   "id": "477bbf7d-9c5b-4189-ad3d-35d0080f9ff2",
   "metadata": {},
   "source": [
    "### Data Exploration "
   ]
  },
  {
   "cell_type": "markdown",
   "id": "fce27434-2b5c-488c-8b58-f60c03e24937",
   "metadata": {},
   "source": [
    "For my model creation, I plan to use both the original data distribution and the log-transformed version of the data. This will allow me to compare model performance under different transformations. By applying the log transformation, I can reduce the impact of outliers and stabilize variance, which may lead to better results if the data is skewed or follows an exponential pattern. Comparing both approaches will help me determine which transformation yields more accurate and robust predictions for my model."
   ]
  },
  {
   "cell_type": "markdown",
   "id": "74734b17-84d2-4075-ac65-3e2fd7a43855",
   "metadata": {},
   "source": [
    "#### Let's check the distribution of the LoanAmount column and the TotalIncome column which is (ApplicantIncome + CoapplicantIncome)"
   ]
  },
  {
   "cell_type": "code",
   "execution_count": 10,
   "id": "b5fc97f4-acc6-4ec5-b4d4-b07f29003719",
   "metadata": {},
   "outputs": [
    {
     "data": {
      "text/plain": [
       "<Axes: >"
      ]
     },
     "execution_count": 10,
     "metadata": {},
     "output_type": "execute_result"
    },
    {
     "data": {
      "image/png": "[encoded data removed]",
      "text/plain": [
       "<Figure size 640x480 with 1 Axes>"
      ]
     },
     "metadata": {},
     "output_type": "display_data"
    }
   ],
   "source": [
    "data['LoanAmount'].hist(bins=20)"
   ]
  },
  {
   "cell_type": "markdown",
   "id": "37e92bd9-920d-47dc-bac6-427aa6d8de1f",
   "metadata": {},
   "source": [
    "Observation: The loan column is rightly skewed. This indicates that the data is concentrated on the left side (lower values), with a long tail extending to the right (higher values). This means that most of the data points are smaller and clustered towards lower values, while a few higher outliers pull the tail to the right.i.e. Many small loans and a a few large ones"
   ]
  },
  {
   "cell_type": "markdown",
   "id": "caf06ed3-55df-40e8-9bd7-2f77d2f81290",
   "metadata": {},
   "source": [
    "##### Let's transform the LoanAmount column. \n",
    "This process is called log transformation, where we take the natural logarithm of the LoanAmount column in the dataset. This helps reduce skewness and stabilize variance, especially for larger values. The histogram we create afterward shows the distribution of the log-transformed loan amounts, helping us see if this change has made the data more normally distributed, which can improve model performance and make the data easier to understand."
   ]
  },
  {
   "cell_type": "code",
   "execution_count": 11,
   "id": "98cd4c3f-f688-4558-8d37-38955328e4c6",
   "metadata": {},
   "outputs": [
    {
     "data": {
      "text/plain": [
       "<Axes: >"
      ]
     },
     "execution_count": 11,
     "metadata": {},
     "output_type": "execute_result"
    },
    {
     "data": {
      "image/png": "[encoded data removed]",
      "text/plain": [
       "<Figure size 640x480 with 1 Axes>"
      ]
     },
     "metadata": {},
     "output_type": "display_data"
    }
   ],
   "source": [
    "data['LoanAmount_log']=np.log(data['LoanAmount'])\n",
    "data['LoanAmount_log'].hist(bins=20)"
   ]
  },
  {
   "cell_type": "markdown",
   "id": "bd188a95-7254-43a3-a565-44882dbec9d9",
   "metadata": {},
   "source": [
    "##### let's create the TotalIncome column and check its distribution"
   ]
  },
  {
   "cell_type": "code",
   "execution_count": 12,
   "id": "1dcbdf18-cb83-4662-8d6b-87a5a24948ad",
   "metadata": {},
   "outputs": [
    {
     "data": {
      "text/plain": [
       "<Axes: >"
      ]
     },
     "execution_count": 12,
     "metadata": {},
     "output_type": "execute_result"
    },
    {
     "data": {
      "image/png": "[encoded data removed]",
      "text/plain": [
       "<Figure size 640x480 with 1 Axes>"
      ]
     },
     "metadata": {},
     "output_type": "display_data"
    }
   ],
   "source": [
    "data['TotalIncome'] = data['ApplicantIncome'] + data['CoapplicantIncome'] # create the TotalIncome column\n",
    "data['TotalIncome'].hist(bins=20) #check the distribution through a histogram"
   ]
  },
  {
   "cell_type": "markdown",
   "id": "4f77cb65-6b7b-45ac-9916-ac97bed70f81",
   "metadata": {},
   "source": [
    "Observation: The loan column is rightly skewed. This indicates that the data is concentrated on the left side (lower values), with a long tail extending to the right (higher values). This means that most of the data points are smaller and clustered towards lower values, while a few higher outliers pull the tail to the right.i.e. Many people have income ranging from 0 to 20000 and a few from 20000 to 80000."
   ]
  },
  {
   "cell_type": "markdown",
   "id": "a5da0e4f-2652-4c7b-9405-71d74bc6715a",
   "metadata": {},
   "source": [
    "##### Let's transform the LoanAmount column and create a new column, TotalIncome_log."
   ]
  },
  {
   "cell_type": "code",
   "execution_count": 13,
   "id": "4e3d94de-b7e2-4495-9b31-fd61cf11b2e2",
   "metadata": {},
   "outputs": [
    {
     "data": {
      "text/plain": [
       "<Axes: >"
      ]
     },
     "execution_count": 13,
     "metadata": {},
     "output_type": "execute_result"
    },
    {
     "data": {
      "image/png": "[encoded data removed]",
      "text/plain": [
       "<Figure size 640x480 with 1 Axes>"
      ]
     },
     "metadata": {},
     "output_type": "display_data"
    }
   ],
   "source": [
    "data['TotalIncome_log']=np.log(data['TotalIncome'])\n",
    "data['TotalIncome_log'].hist(bins=20)"
   ]
  },
  {
   "cell_type": "code",
   "execution_count": 14,
   "id": "5c69027b-47af-4082-947e-4793251d15e5",
   "metadata": {},
   "outputs": [
    {
     "data": {
      "text/plain": [
       "Index(['Loan_ID', 'Gender', 'Married', 'Dependents', 'Education',\n",
       "       'Self_Employed', 'ApplicantIncome', 'CoapplicantIncome', 'LoanAmount',\n",
       "       'Loan_Amount_Term', 'Credit_History', 'Property_Area', 'Loan_Status',\n",
       "       'LoanAmount_log', 'TotalIncome', 'TotalIncome_log'],\n",
       "      dtype='object')"
      ]
     },
     "execution_count": 14,
     "metadata": {},
     "output_type": "execute_result"
    }
   ],
   "source": [
    "data.columns # checking the columns in our dataset"
   ]
  },
  {
   "cell_type": "code",
   "execution_count": 15,
   "id": "0288dfca-7398-44e3-adb5-3a688398f4b3",
   "metadata": {},
   "outputs": [
    {
     "name": "stdout",
     "output_type": "stream",
     "text": [
      "Number of people who ask for loans, grouped by gender:\n",
      "Gender\n",
      "Male      502\n",
      "Female    112\n",
      "Name: count, dtype: int64\n"
     ]
    },
    {
     "data": {
      "text/plain": [
       "<Axes: xlabel='Gender', ylabel='count'>"
      ]
     },
     "execution_count": 15,
     "metadata": {},
     "output_type": "execute_result"
    },
    {
     "data": {
      "image/png": "[encoded data removed]",
      "text/plain": [
       "<Figure size 640x480 with 1 Axes>"
      ]
     },
     "metadata": {},
     "output_type": "display_data"
    }
   ],
   "source": [
    "print('Number of people who ask for loans, grouped by gender:')\n",
    "print(data['Gender'].value_counts())\n",
    "sns.countplot(x='Gender', data=data, palette='Set2')"
   ]
  },
  {
   "cell_type": "markdown",
   "id": "af176473-1511-4aa8-95df-a24c5d847c70",
   "metadata": {},
   "source": [
    "Observation: More males tend to ask for loans compared to females."
   ]
  },
  {
   "cell_type": "code",
   "execution_count": 16,
   "id": "7fa31958-29c7-4c70-ab7d-644129a57985",
   "metadata": {},
   "outputs": [
    {
     "name": "stdout",
     "output_type": "stream",
     "text": [
      "Number of people who ask for loans, grouped by Marital status:\n",
      "Married\n",
      "Yes    401\n",
      "No     213\n",
      "Name: count, dtype: int64\n"
     ]
    },
    {
     "data": {
      "text/plain": [
       "<Axes: xlabel='Married', ylabel='count'>"
      ]
     },
     "execution_count": 16,
     "metadata": {},
     "output_type": "execute_result"
    },
    {
     "data": {
      "image/png": "[encoded data removed]",
      "text/plain": [
       "<Figure size 640x480 with 1 Axes>"
      ]
     },
     "metadata": {},
     "output_type": "display_data"
    }
   ],
   "source": [
    "print('Number of people who ask for loans, grouped by Marital status:')\n",
    "print(data['Married'].value_counts())\n",
    "sns.countplot(x='Married', data=data, palette='Set1')"
   ]
  },
  {
   "cell_type": "markdown",
   "id": "5838ce02-6269-4b44-91ca-3e88709ef182",
   "metadata": {},
   "source": [
    "Observation: Married individuals tend to apply for loans more often than single people, nearly twice as much. This might be because they have more financial responsibilities, like supporting a family or managing household expenses."
   ]
  },
  {
   "cell_type": "code",
   "execution_count": 17,
   "id": "f82a5e00-c2b1-4086-a38b-d8efa7709551",
   "metadata": {},
   "outputs": [
    {
     "name": "stdout",
     "output_type": "stream",
     "text": [
      "Number of people who ask for loans, grouped by Dependents:\n",
      "Dependents\n",
      "0     360\n",
      "1     102\n",
      "2     101\n",
      "3+     51\n",
      "Name: count, dtype: int64\n"
     ]
    },
    {
     "data": {
      "text/plain": [
       "<Axes: xlabel='Dependents', ylabel='count'>"
      ]
     },
     "execution_count": 17,
     "metadata": {},
     "output_type": "execute_result"
    },
    {
     "data": {
      "image/png": "[encoded data removed]",
      "text/plain": [
       "<Figure size 640x480 with 1 Axes>"
      ]
     },
     "metadata": {},
     "output_type": "display_data"
    }
   ],
   "source": [
    "print('Number of people who ask for loans, grouped by Dependents:')\n",
    "print(data['Dependents'].value_counts())\n",
    "sns.countplot(x='Dependents', data=data, palette='Set2')"
   ]
  },
  {
   "cell_type": "markdown",
   "id": "35ec855f-15f4-4fca-abd4-064ad8fa6548",
   "metadata": {},
   "source": [
    "observation: People with less dependants ask for more loans. This may be because they often have fewer financial obligations, allowing them to take on additional debt more comfortably. With less financial responsibility for others, they might feel more secure in their ability to repay loans."
   ]
  },
  {
   "cell_type": "code",
   "execution_count": 18,
   "id": "9c6ebfe8-7b89-416f-a45c-c36fcbedb249",
   "metadata": {},
   "outputs": [],
   "source": [
    "data['Dependents']=data['Dependents'].replace(to_replace='3+', value='4') # replace the 3+ with 4 "
   ]
  },
  {
   "cell_type": "code",
   "execution_count": 19,
   "id": "81f8f21d-c51e-4977-9a90-f961e3f9bde3",
   "metadata": {},
   "outputs": [
    {
     "name": "stdout",
     "output_type": "stream",
     "text": [
      "Number of people who ask for loans, grouped by Self_Employed:\n",
      "Self_Employed\n",
      "No     532\n",
      "Yes     82\n",
      "Name: count, dtype: int64\n"
     ]
    },
    {
     "data": {
      "text/plain": [
       "<Axes: xlabel='Self_Employed', ylabel='count'>"
      ]
     },
     "execution_count": 19,
     "metadata": {},
     "output_type": "execute_result"
    },
    {
     "data": {
      "image/png": "[encoded data removed]",
      "text/plain": [
       "<Figure size 640x480 with 1 Axes>"
      ]
     },
     "metadata": {},
     "output_type": "display_data"
    }
   ],
   "source": [
    "print('Number of people who ask for loans, grouped by Self_Employed:')\n",
    "print(data['Self_Employed'].value_counts())\n",
    "sns.countplot(x='Self_Employed', data=data, palette='Set1')"
   ]
  },
  {
   "cell_type": "markdown",
   "id": "2431cfe1-28da-4e30-8c4e-23dbe36091a9",
   "metadata": {},
   "source": [
    "Observation : Fewer self-employed individuals are asking for loans, likely due to the overall lower number of people who are self-employed compared to those in traditional employment. "
   ]
  },
  {
   "cell_type": "code",
   "execution_count": 20,
   "id": "05729f70-8b4e-4359-8a23-e6c44008ad62",
   "metadata": {},
   "outputs": [
    {
     "name": "stdout",
     "output_type": "stream",
     "text": [
      "Number of people who ask for loans, grouped by LoanAmount:\n",
      "LoanAmount\n",
      "146.412162    22\n",
      "120.000000    20\n",
      "110.000000    17\n",
      "100.000000    15\n",
      "160.000000    12\n",
      "              ..\n",
      "240.000000     1\n",
      "214.000000     1\n",
      "59.000000      1\n",
      "166.000000     1\n",
      "253.000000     1\n",
      "Name: count, Length: 204, dtype: int64\n"
     ]
    },
    {
     "data": {
      "text/plain": [
       "<Axes: xlabel='LoanAmount', ylabel='count'>"
      ]
     },
     "execution_count": 20,
     "metadata": {},
     "output_type": "execute_result"
    },
    {
     "data": {
      "image/png": "[encoded data removed]",
      "text/plain": [
       "<Figure size 640x480 with 1 Axes>"
      ]
     },
     "metadata": {},
     "output_type": "display_data"
    }
   ],
   "source": [
    "print('Number of people who ask for loans, grouped by LoanAmount:')\n",
    "print(data['LoanAmount'].value_counts())\n",
    "sns.countplot(x='LoanAmount', data=data, palette='Set1')"
   ]
  },
  {
   "cell_type": "code",
   "execution_count": 21,
   "id": "455325c0-1507-4671-86b2-66b0ff506c34",
   "metadata": {},
   "outputs": [
    {
     "name": "stdout",
     "output_type": "stream",
     "text": [
      "Number of people who ask for loans, grouped by Credit_History:\n",
      "Credit_History\n",
      "1.0    525\n",
      "0.0     89\n",
      "Name: count, dtype: int64\n"
     ]
    },
    {
     "data": {
      "text/plain": [
       "<Axes: xlabel='Credit_History', ylabel='count'>"
      ]
     },
     "execution_count": 21,
     "metadata": {},
     "output_type": "execute_result"
    },
    {
     "data": {
      "image/png": "[encoded data removed]",
      "text/plain": [
       "<Figure size 640x480 with 1 Axes>"
      ]
     },
     "metadata": {},
     "output_type": "display_data"
    }
   ],
   "source": [
    "print('Number of people who ask for loans, grouped by Credit_History:')\n",
    "print(data['Credit_History'].value_counts())\n",
    "sns.countplot(x='Credit_History', data=data, palette='Set1')"
   ]
  },
  {
   "cell_type": "markdown",
   "id": "7403d1b0-5be4-4a59-b289-64317679b755",
   "metadata": {},
   "source": [
    "### Let's create our loan prediction model\n",
    "This loan prediction model will evaluate factors like income, employment status, and credit history to predict whether a loan applicant is likely to be approved and able to repay the loan. By analyzing the data, the model will help lenders make better decisions, reduce risk, and speed up the loan approval process, ensuring that borrowers get the financial support they need."
   ]
  },
  {
   "cell_type": "code",
   "execution_count": 22,
   "id": "99efef10-e6e0-48c5-8b0c-d046eaf602a9",
   "metadata": {},
   "outputs": [],
   "source": [
    "label_encoder= LabelEncoder() # let's convert our categorical data into numerical values."
   ]
  },
  {
   "cell_type": "code",
   "execution_count": 23,
   "id": "fab2fde9-d859-4510-97c3-7d93ed108461",
   "metadata": {},
   "outputs": [],
   "source": [
    "# List of columns to encode\n",
    "columns_to_encode = ['Gender','Married', 'Education', 'Self_Employed', 'Loan_Status', 'Property_Area']  # Add the column names you want to encode\n",
    "\n",
    "# Apply LabelEncoder to each column\n",
    "for column in columns_to_encode:\n",
    "    data[column] = label_encoder.fit_transform(data[column])\n"
   ]
  },
  {
   "cell_type": "code",
   "execution_count": 24,
   "id": "517ff96d-46f0-4ce2-be0f-53d0cb980eb0",
   "metadata": {},
   "outputs": [
    {
     "data": {
      "text/html": [
       "<div>\n",
       "<style scoped>\n",
       "    .dataframe tbody tr th:only-of-type {\n",
       "        vertical-align: middle;\n",
       "    }\n",
       "\n",
       "    .dataframe tbody tr th {\n",
       "        vertical-align: top;\n",
       "    }\n",
       "\n",
       "    .dataframe thead th {\n",
       "        text-align: right;\n",
       "    }\n",
       "</style>\n",
       "<table border=\"1\" class=\"dataframe\">\n",
       "  <thead>\n",
       "    <tr style=\"text-align: right;\">\n",
       "      <th></th>\n",
       "      <th>Loan_ID</th>\n",
       "      <th>Gender</th>\n",
       "      <th>Married</th>\n",
       "      <th>Dependents</th>\n",
       "      <th>Education</th>\n",
       "      <th>Self_Employed</th>\n",
       "      <th>ApplicantIncome</th>\n",
       "      <th>CoapplicantIncome</th>\n",
       "      <th>LoanAmount</th>\n",
       "      <th>Loan_Amount_Term</th>\n",
       "      <th>Credit_History</th>\n",
       "      <th>Property_Area</th>\n",
       "      <th>Loan_Status</th>\n",
       "      <th>LoanAmount_log</th>\n",
       "      <th>TotalIncome</th>\n",
       "      <th>TotalIncome_log</th>\n",
       "    </tr>\n",
       "  </thead>\n",
       "  <tbody>\n",
       "    <tr>\n",
       "      <th>0</th>\n",
       "      <td>LP001002</td>\n",
       "      <td>1</td>\n",
       "      <td>0</td>\n",
       "      <td>0</td>\n",
       "      <td>0</td>\n",
       "      <td>0</td>\n",
       "      <td>5849</td>\n",
       "      <td>0.0</td>\n",
       "      <td>146.412162</td>\n",
       "      <td>360.0</td>\n",
       "      <td>1.0</td>\n",
       "      <td>2</td>\n",
       "      <td>1</td>\n",
       "      <td>4.986426</td>\n",
       "      <td>5849.0</td>\n",
       "      <td>8.674026</td>\n",
       "    </tr>\n",
       "    <tr>\n",
       "      <th>1</th>\n",
       "      <td>LP001003</td>\n",
       "      <td>1</td>\n",
       "      <td>1</td>\n",
       "      <td>1</td>\n",
       "      <td>0</td>\n",
       "      <td>0</td>\n",
       "      <td>4583</td>\n",
       "      <td>1508.0</td>\n",
       "      <td>128.000000</td>\n",
       "      <td>360.0</td>\n",
       "      <td>1.0</td>\n",
       "      <td>0</td>\n",
       "      <td>0</td>\n",
       "      <td>4.852030</td>\n",
       "      <td>6091.0</td>\n",
       "      <td>8.714568</td>\n",
       "    </tr>\n",
       "    <tr>\n",
       "      <th>2</th>\n",
       "      <td>LP001005</td>\n",
       "      <td>1</td>\n",
       "      <td>1</td>\n",
       "      <td>0</td>\n",
       "      <td>0</td>\n",
       "      <td>1</td>\n",
       "      <td>3000</td>\n",
       "      <td>0.0</td>\n",
       "      <td>66.000000</td>\n",
       "      <td>360.0</td>\n",
       "      <td>1.0</td>\n",
       "      <td>2</td>\n",
       "      <td>1</td>\n",
       "      <td>4.189655</td>\n",
       "      <td>3000.0</td>\n",
       "      <td>8.006368</td>\n",
       "    </tr>\n",
       "    <tr>\n",
       "      <th>3</th>\n",
       "      <td>LP001006</td>\n",
       "      <td>1</td>\n",
       "      <td>1</td>\n",
       "      <td>0</td>\n",
       "      <td>1</td>\n",
       "      <td>0</td>\n",
       "      <td>2583</td>\n",
       "      <td>2358.0</td>\n",
       "      <td>120.000000</td>\n",
       "      <td>360.0</td>\n",
       "      <td>1.0</td>\n",
       "      <td>2</td>\n",
       "      <td>1</td>\n",
       "      <td>4.787492</td>\n",
       "      <td>4941.0</td>\n",
       "      <td>8.505323</td>\n",
       "    </tr>\n",
       "    <tr>\n",
       "      <th>4</th>\n",
       "      <td>LP001008</td>\n",
       "      <td>1</td>\n",
       "      <td>0</td>\n",
       "      <td>0</td>\n",
       "      <td>0</td>\n",
       "      <td>0</td>\n",
       "      <td>6000</td>\n",
       "      <td>0.0</td>\n",
       "      <td>141.000000</td>\n",
       "      <td>360.0</td>\n",
       "      <td>1.0</td>\n",
       "      <td>2</td>\n",
       "      <td>1</td>\n",
       "      <td>4.948760</td>\n",
       "      <td>6000.0</td>\n",
       "      <td>8.699515</td>\n",
       "    </tr>\n",
       "  </tbody>\n",
       "</table>\n",
       "</div>"
      ],
      "text/plain": [
       "    Loan_ID  Gender  Married Dependents  Education  Self_Employed  \\\n",
       "0  LP001002       1        0          0          0              0   \n",
       "1  LP001003       1        1          1          0              0   \n",
       "2  LP001005       1        1          0          0              1   \n",
       "3  LP001006       1        1          0          1              0   \n",
       "4  LP001008       1        0          0          0              0   \n",
       "\n",
       "   ApplicantIncome  CoapplicantIncome  LoanAmount  Loan_Amount_Term  \\\n",
       "0             5849                0.0  146.412162             360.0   \n",
       "1             4583             1508.0  128.000000             360.0   \n",
       "2             3000                0.0   66.000000             360.0   \n",
       "3             2583             2358.0  120.000000             360.0   \n",
       "4             6000                0.0  141.000000             360.0   \n",
       "\n",
       "   Credit_History  Property_Area  Loan_Status  LoanAmount_log  TotalIncome  \\\n",
       "0             1.0              2            1        4.986426       5849.0   \n",
       "1             1.0              0            0        4.852030       6091.0   \n",
       "2             1.0              2            1        4.189655       3000.0   \n",
       "3             1.0              2            1        4.787492       4941.0   \n",
       "4             1.0              2            1        4.948760       6000.0   \n",
       "\n",
       "   TotalIncome_log  \n",
       "0         8.674026  \n",
       "1         8.714568  \n",
       "2         8.006368  \n",
       "3         8.505323  \n",
       "4         8.699515  "
      ]
     },
     "execution_count": 24,
     "metadata": {},
     "output_type": "execute_result"
    }
   ],
   "source": [
    "data.head(5) # lets checkout our transformesd dataset"
   ]
  },
  {
   "cell_type": "markdown",
   "id": "6580097e-0fea-40d9-8016-12988907a50a",
   "metadata": {},
   "source": [
    "## Let's test the model performance using the original dataset without the log transformation"
   ]
  },
  {
   "cell_type": "markdown",
   "id": "e8dacf78-13e8-422a-991e-a0f97d40c36f",
   "metadata": {},
   "source": [
    "Define a list of feature columns that will be used as input for the model"
   ]
  },
  {
   "cell_type": "code",
   "execution_count": 25,
   "id": "17008f5a-eaf2-4265-94c0-3931586b666d",
   "metadata": {},
   "outputs": [],
   "source": [
    "features=['Gender', 'Married', 'Dependents', 'Education','Self_Employed', 'ApplicantIncome', 'CoapplicantIncome', 'LoanAmount',\n",
    "       'Loan_Amount_Term', 'Credit_History', 'Property_Area']"
   ]
  },
  {
   "cell_type": "markdown",
   "id": "ce874e1d-ceb6-45b2-a584-59615d787945",
   "metadata": {},
   "source": [
    "Define our independent variables (features) and the dependent variable (target) as follows:"
   ]
  },
  {
   "cell_type": "code",
   "execution_count": 26,
   "id": "193346dc-fa1e-4b89-876f-17c621adcadd",
   "metadata": {},
   "outputs": [],
   "source": [
    "# Create the feature matrix X using the specified columns from the dataset\n",
    "X = data[features] \n",
    "# Create the target vector y, which contains the loan status (approved or not)\n",
    "y = data['Loan_Status']  # This variable will be used to train the model to predict loan approval"
   ]
  },
  {
   "cell_type": "code",
   "execution_count": 27,
   "id": "370b740c-146f-44a3-8dfb-68b80544ca9d",
   "metadata": {},
   "outputs": [],
   "source": [
    "X = data[features].copy()  # Create a copy of the selected features"
   ]
  },
  {
   "cell_type": "markdown",
   "id": "e99d065c-2b4d-4aad-83be-ab8d02914394",
   "metadata": {},
   "source": [
    "The StandardScaler() is used to standardize the features by scaling them to have a mean of 0 and a standard deviation of 1. This is important because it helps ensure that all features contribute equally to the distance calculations in machine learning algorithms, preventing features with larger ranges from disproportionately influencing the model's performance. This method will be applied on ApplicantIncome, CoapplicantIncome, LoanAmount and Loan_Amount_Term columns."
   ]
  },
  {
   "cell_type": "code",
   "execution_count": 28,
   "id": "d22b6479-9df8-4896-947d-7fc8d8def2d3",
   "metadata": {},
   "outputs": [],
   "source": [
    "scaler=StandardScaler()"
   ]
  },
  {
   "cell_type": "code",
   "execution_count": 29,
   "id": "7f08bac2-4617-4f5e-ac6b-4455b261e83a",
   "metadata": {},
   "outputs": [],
   "source": [
    "cols =['ApplicantIncome', 'CoapplicantIncome','LoanAmount','Loan_Amount_Term']"
   ]
  },
  {
   "cell_type": "code",
   "execution_count": 30,
   "id": "74e8c6c2-190b-409e-86be-212acf9ef881",
   "metadata": {},
   "outputs": [],
   "source": [
    "X[cols]=scaler.fit_transform(X[cols]) # scale the columns"
   ]
  },
  {
   "cell_type": "code",
   "execution_count": 31,
   "id": "895d659e-01aa-4e6d-b52a-74a04b3edc17",
   "metadata": {},
   "outputs": [
    {
     "data": {
      "text/html": [
       "<div>\n",
       "<style scoped>\n",
       "    .dataframe tbody tr th:only-of-type {\n",
       "        vertical-align: middle;\n",
       "    }\n",
       "\n",
       "    .dataframe tbody tr th {\n",
       "        vertical-align: top;\n",
       "    }\n",
       "\n",
       "    .dataframe thead th {\n",
       "        text-align: right;\n",
       "    }\n",
       "</style>\n",
       "<table border=\"1\" class=\"dataframe\">\n",
       "  <thead>\n",
       "    <tr style=\"text-align: right;\">\n",
       "      <th></th>\n",
       "      <th>Gender</th>\n",
       "      <th>Married</th>\n",
       "      <th>Dependents</th>\n",
       "      <th>Education</th>\n",
       "      <th>Self_Employed</th>\n",
       "      <th>ApplicantIncome</th>\n",
       "      <th>CoapplicantIncome</th>\n",
       "      <th>LoanAmount</th>\n",
       "      <th>Loan_Amount_Term</th>\n",
       "      <th>Credit_History</th>\n",
       "      <th>Property_Area</th>\n",
       "    </tr>\n",
       "  </thead>\n",
       "  <tbody>\n",
       "    <tr>\n",
       "      <th>0</th>\n",
       "      <td>1</td>\n",
       "      <td>0</td>\n",
       "      <td>0</td>\n",
       "      <td>0</td>\n",
       "      <td>0</td>\n",
       "      <td>0.072991</td>\n",
       "      <td>-0.554487</td>\n",
       "      <td>0.000000</td>\n",
       "      <td>0.273231</td>\n",
       "      <td>1.0</td>\n",
       "      <td>2</td>\n",
       "    </tr>\n",
       "    <tr>\n",
       "      <th>1</th>\n",
       "      <td>1</td>\n",
       "      <td>1</td>\n",
       "      <td>1</td>\n",
       "      <td>0</td>\n",
       "      <td>0</td>\n",
       "      <td>-0.134412</td>\n",
       "      <td>-0.038732</td>\n",
       "      <td>-0.219273</td>\n",
       "      <td>0.273231</td>\n",
       "      <td>1.0</td>\n",
       "      <td>0</td>\n",
       "    </tr>\n",
       "    <tr>\n",
       "      <th>2</th>\n",
       "      <td>1</td>\n",
       "      <td>1</td>\n",
       "      <td>0</td>\n",
       "      <td>0</td>\n",
       "      <td>1</td>\n",
       "      <td>-0.393747</td>\n",
       "      <td>-0.554487</td>\n",
       "      <td>-0.957641</td>\n",
       "      <td>0.273231</td>\n",
       "      <td>1.0</td>\n",
       "      <td>2</td>\n",
       "    </tr>\n",
       "    <tr>\n",
       "      <th>3</th>\n",
       "      <td>1</td>\n",
       "      <td>1</td>\n",
       "      <td>0</td>\n",
       "      <td>1</td>\n",
       "      <td>0</td>\n",
       "      <td>-0.462062</td>\n",
       "      <td>0.251980</td>\n",
       "      <td>-0.314547</td>\n",
       "      <td>0.273231</td>\n",
       "      <td>1.0</td>\n",
       "      <td>2</td>\n",
       "    </tr>\n",
       "    <tr>\n",
       "      <th>4</th>\n",
       "      <td>1</td>\n",
       "      <td>0</td>\n",
       "      <td>0</td>\n",
       "      <td>0</td>\n",
       "      <td>0</td>\n",
       "      <td>0.097728</td>\n",
       "      <td>-0.554487</td>\n",
       "      <td>-0.064454</td>\n",
       "      <td>0.273231</td>\n",
       "      <td>1.0</td>\n",
       "      <td>2</td>\n",
       "    </tr>\n",
       "  </tbody>\n",
       "</table>\n",
       "</div>"
      ],
      "text/plain": [
       "   Gender  Married Dependents  Education  Self_Employed  ApplicantIncome  \\\n",
       "0       1        0          0          0              0         0.072991   \n",
       "1       1        1          1          0              0        -0.134412   \n",
       "2       1        1          0          0              1        -0.393747   \n",
       "3       1        1          0          1              0        -0.462062   \n",
       "4       1        0          0          0              0         0.097728   \n",
       "\n",
       "   CoapplicantIncome  LoanAmount  Loan_Amount_Term  Credit_History  \\\n",
       "0          -0.554487    0.000000          0.273231             1.0   \n",
       "1          -0.038732   -0.219273          0.273231             1.0   \n",
       "2          -0.554487   -0.957641          0.273231             1.0   \n",
       "3           0.251980   -0.314547          0.273231             1.0   \n",
       "4          -0.554487   -0.064454          0.273231             1.0   \n",
       "\n",
       "   Property_Area  \n",
       "0              2  \n",
       "1              0  \n",
       "2              2  \n",
       "3              2  \n",
       "4              2  "
      ]
     },
     "execution_count": 31,
     "metadata": {},
     "output_type": "execute_result"
    }
   ],
   "source": [
    "X.head()"
   ]
  },
  {
   "cell_type": "markdown",
   "id": "53786c3e-144e-41eb-bad9-e29d0a34069d",
   "metadata": {},
   "source": [
    "#### We analyzed these models to find the best three to help us improve our predictions about loan approvals.\n",
    "\n",
    "1. Random Forest: Uses many decision trees together to make better predictions and avoid mistakes. It’s good for predicting if a loan will be approved.\n",
    "\n",
    "2. Linear Regression: A straightforward model that shows how different factors affect loan approval. It’s easy to understand and helps us compare with other models.\n",
    "\n",
    "3. Support Vector Classifier (SVC): This model finds the best way to separate approved and denied loans, even when the data is complex.\n",
    "\n",
    "4. Decision Tree Classifier: A simple model that makes decisions based on rules, showing clearly how it reaches its conclusions about loan approvals.\n",
    "\n",
    "5. Gradient Boosting Classifier: This model improves its predictions step by step, making it very accurate for predicting loan outcomes.\n",
    "\n",
    "\n",
    "\n",
    "\n",
    "\n",
    "\n",
    "\n",
    "\n"
   ]
  },
  {
   "cell_type": "code",
   "execution_count": 32,
   "id": "ae5c0c56-0f08-4f05-a916-f9f74d0c0419",
   "metadata": {},
   "outputs": [],
   "source": [
    "# Initialize an empty dictionary to store model performance results\n",
    "model_df = {}\n",
    "# Function to evaluate the model's performance\n",
    "def model_val(model, X, y):\n",
    "    # Split the dataset into training and testing sets, with 20% of the data used for testing\n",
    "    X_train, X_test, y_train, y_test = train_test_split(X, y, test_size=0.2, random_state=42)\n",
    "\n",
    "    # Fit the model using the training data\n",
    "    model.fit(X_train, y_train)\n",
    "    \n",
    "    # Predict the outcomes for the test set\n",
    "    y_pred = model.predict(X_test)\n",
    "\n",
    "    # Print the accuracy of the model on the test set\n",
    "    print(f\"{model} accuracy is {accuracy_score(y_test, y_pred)}\")\n",
    "\n",
    "    # Perform cross-validation to evaluate model performance\n",
    "    score = cross_val_score(model, X, y, cv=5)\n",
    "    \n",
    "    # Print the average cross-validation score\n",
    "    print(f\"{model} Avg cross val score is {np.mean(score)}\")\n",
    "\n",
    "    # Store the average cross-validation score in the model_df dictionary\n",
    "    model_df[model] = round(np.mean(score) * 100, 2)\n"
   ]
  },
  {
   "cell_type": "code",
   "execution_count": 33,
   "id": "10623737-d86c-4366-8963-ad67e043fc9c",
   "metadata": {},
   "outputs": [
    {
     "data": {
      "text/plain": [
       "{}"
      ]
     },
     "execution_count": 33,
     "metadata": {},
     "output_type": "execute_result"
    }
   ],
   "source": [
    "model_df"
   ]
  },
  {
   "cell_type": "markdown",
   "id": "77bec73c-2ec7-4842-9525-a65fe44cd850",
   "metadata": {},
   "source": [
    "#### Random Forest Classifier model"
   ]
  },
  {
   "cell_type": "code",
   "execution_count": 34,
   "id": "d8ca828a-f0fd-4766-9f93-d26dd283d3d7",
   "metadata": {},
   "outputs": [
    {
     "name": "stdout",
     "output_type": "stream",
     "text": [
      "RandomForestClassifier() accuracy is 0.7723577235772358\n",
      "RandomForestClassifier() Avg cross val score is 0.7850459816073571\n"
     ]
    }
   ],
   "source": [
    "model=RandomForestClassifier()\n",
    "model_val(model,X,y)"
   ]
  },
  {
   "cell_type": "markdown",
   "id": "be2d8347-3986-438e-abb4-e9e3f5d107b9",
   "metadata": {},
   "source": [
    "#### Linear Regression"
   ]
  },
  {
   "cell_type": "code",
   "execution_count": 35,
   "id": "705b3793-ca1a-478b-86b8-ef8496658a55",
   "metadata": {},
   "outputs": [
    {
     "name": "stdout",
     "output_type": "stream",
     "text": [
      "LogisticRegression() accuracy is 0.7886178861788617\n",
      "LogisticRegression() Avg cross val score is 0.8045715047314408\n"
     ]
    }
   ],
   "source": [
    "model = LogisticRegression()\n",
    "model_val(model,X,y)"
   ]
  },
  {
   "cell_type": "markdown",
   "id": "691a43a7-6052-4242-a64d-b5888036c0a8",
   "metadata": {},
   "source": [
    "#### Support Vector Classifier (SVC)"
   ]
  },
  {
   "cell_type": "code",
   "execution_count": 36,
   "id": "e7118363-c83a-46f4-9076-0a8a0cd4349f",
   "metadata": {},
   "outputs": [
    {
     "name": "stdout",
     "output_type": "stream",
     "text": [
      "SVC() accuracy is 0.7804878048780488\n",
      "SVC() Avg cross val score is 0.7964147674263627\n"
     ]
    }
   ],
   "source": [
    "model =svm.SVC()\n",
    "model_val(model,X,y)"
   ]
  },
  {
   "cell_type": "markdown",
   "id": "abf15e6b-dc11-4044-9f73-bac0ec7adfb4",
   "metadata": {},
   "source": [
    "#### Decision Tree Classifier"
   ]
  },
  {
   "cell_type": "code",
   "execution_count": 37,
   "id": "fd9bcbb6-931a-4a4d-949f-04df4763b041",
   "metadata": {},
   "outputs": [
    {
     "name": "stdout",
     "output_type": "stream",
     "text": [
      "DecisionTreeClassifier() accuracy is 0.6910569105691057\n",
      "DecisionTreeClassifier() Avg cross val score is 0.7133679861388778\n"
     ]
    }
   ],
   "source": [
    "model = DecisionTreeClassifier()\n",
    "model_val(model,X,y)"
   ]
  },
  {
   "cell_type": "markdown",
   "id": "11d510ec-7164-4f13-8998-ddf44065ecd9",
   "metadata": {},
   "source": [
    "#### Gradient Boosting Classifier"
   ]
  },
  {
   "cell_type": "code",
   "execution_count": 38,
   "id": "cd82d359-415b-4260-b245-7c3e69f4ba06",
   "metadata": {},
   "outputs": [
    {
     "name": "stdout",
     "output_type": "stream",
     "text": [
      "GradientBoostingClassifier() accuracy is 0.7479674796747967\n",
      "GradientBoostingClassifier() Avg cross val score is 0.7801146208183394\n"
     ]
    }
   ],
   "source": [
    "model=GradientBoostingClassifier()\n",
    "model_val(model,X,y)"
   ]
  },
  {
   "cell_type": "markdown",
   "id": "db25b27b-6265-4278-acfe-3d3c59645765",
   "metadata": {},
   "source": [
    "Observation: The models with the best cross validation scores ( using the original data) are Logistic Regression with a sore of 80.46, Random Forest Classifier with 78.34,\n",
    "and SVC with a score of 79.64."
   ]
  },
  {
   "cell_type": "markdown",
   "id": "63f488dc-ff56-4821-8f60-807f0a9d0370",
   "metadata": {},
   "source": [
    "## Let's test the model performance using the log transformed data\n",
    "\n",
    "We will repeat the whole process from selecting our features to testing the performance of our selected models "
   ]
  },
  {
   "cell_type": "code",
   "execution_count": 39,
   "id": "3db46b37-3534-490c-b1a2-059a0cfdd8aa",
   "metadata": {},
   "outputs": [],
   "source": [
    "features=['Gender', 'Married', 'Dependents', 'Education','Self_Employed','LoanAmount_log','TotalIncome_log',\n",
    "          'Loan_Amount_Term', 'Credit_History', 'Property_Area']\n",
    "# replace 'ApplicantIncome', 'CoapplicantIncome' and'LoanAmount' columns with 'LoanAmount_log'and'TotalIncome_log'."
   ]
  },
  {
   "cell_type": "code",
   "execution_count": 40,
   "id": "680cbb01-f29e-42a8-98ff-52837ab4f289",
   "metadata": {},
   "outputs": [],
   "source": [
    "# Create the feature matrix X using the specified columns from the dataset\n",
    "X2 = data[features] \n",
    "# Create the target vector y, which contains the loan status (approved or not)\n",
    "y = data['Loan_Status']  # This variable will be used to train the model to predict loan approval"
   ]
  },
  {
   "cell_type": "code",
   "execution_count": 41,
   "id": "462eb38b-07c6-4c95-9c8b-968d92c5be85",
   "metadata": {},
   "outputs": [],
   "source": [
    "X2 = data[features].copy()  # Create a copy of the selected features"
   ]
  },
  {
   "cell_type": "code",
   "execution_count": 42,
   "id": "a8ec2346-d323-485d-ba71-d7f12f7da472",
   "metadata": {},
   "outputs": [],
   "source": [
    "scaler=StandardScaler()"
   ]
  },
  {
   "cell_type": "code",
   "execution_count": 43,
   "id": "b19b0c0b-67a4-4331-8640-8d8cd826ebcf",
   "metadata": {},
   "outputs": [],
   "source": [
    "cols=['LoanAmount_log','TotalIncome_log','Loan_Amount_Term']"
   ]
  },
  {
   "cell_type": "code",
   "execution_count": 44,
   "id": "b8c56d36-5cbb-44c8-a671-6891204f13ec",
   "metadata": {},
   "outputs": [],
   "source": [
    "X2[cols]=scaler.fit_transform(X2[cols])"
   ]
  },
  {
   "cell_type": "code",
   "execution_count": 45,
   "id": "6d01e96a-ef05-4a72-b932-f42ff4c077d4",
   "metadata": {},
   "outputs": [
    {
     "data": {
      "text/html": [
       "<div>\n",
       "<style scoped>\n",
       "    .dataframe tbody tr th:only-of-type {\n",
       "        vertical-align: middle;\n",
       "    }\n",
       "\n",
       "    .dataframe tbody tr th {\n",
       "        vertical-align: top;\n",
       "    }\n",
       "\n",
       "    .dataframe thead th {\n",
       "        text-align: right;\n",
       "    }\n",
       "</style>\n",
       "<table border=\"1\" class=\"dataframe\">\n",
       "  <thead>\n",
       "    <tr style=\"text-align: right;\">\n",
       "      <th></th>\n",
       "      <th>Gender</th>\n",
       "      <th>Married</th>\n",
       "      <th>Dependents</th>\n",
       "      <th>Education</th>\n",
       "      <th>Self_Employed</th>\n",
       "      <th>LoanAmount_log</th>\n",
       "      <th>TotalIncome_log</th>\n",
       "      <th>Loan_Amount_Term</th>\n",
       "      <th>Credit_History</th>\n",
       "      <th>Property_Area</th>\n",
       "    </tr>\n",
       "  </thead>\n",
       "  <tbody>\n",
       "    <tr>\n",
       "      <th>0</th>\n",
       "      <td>1</td>\n",
       "      <td>0</td>\n",
       "      <td>0</td>\n",
       "      <td>0</td>\n",
       "      <td>0</td>\n",
       "      <td>0.250640</td>\n",
       "      <td>0.008468</td>\n",
       "      <td>0.273231</td>\n",
       "      <td>1.0</td>\n",
       "      <td>2</td>\n",
       "    </tr>\n",
       "    <tr>\n",
       "      <th>1</th>\n",
       "      <td>1</td>\n",
       "      <td>1</td>\n",
       "      <td>1</td>\n",
       "      <td>0</td>\n",
       "      <td>0</td>\n",
       "      <td>-0.020226</td>\n",
       "      <td>0.082903</td>\n",
       "      <td>0.273231</td>\n",
       "      <td>1.0</td>\n",
       "      <td>0</td>\n",
       "    </tr>\n",
       "  </tbody>\n",
       "</table>\n",
       "</div>"
      ],
      "text/plain": [
       "   Gender  Married Dependents  Education  Self_Employed  LoanAmount_log  \\\n",
       "0       1        0          0          0              0        0.250640   \n",
       "1       1        1          1          0              0       -0.020226   \n",
       "\n",
       "   TotalIncome_log  Loan_Amount_Term  Credit_History  Property_Area  \n",
       "0         0.008468          0.273231             1.0              2  \n",
       "1         0.082903          0.273231             1.0              0  "
      ]
     },
     "execution_count": 45,
     "metadata": {},
     "output_type": "execute_result"
    }
   ],
   "source": [
    "X2.head(2)"
   ]
  },
  {
   "cell_type": "code",
   "execution_count": 46,
   "id": "4c915694-a946-4780-a27d-95dfdc774e43",
   "metadata": {},
   "outputs": [],
   "source": [
    "# Initialize an empty dictionary to store model performance results\n",
    "model_df2 = {}\n",
    "\n",
    "# Function to evaluate the model's performance\n",
    "def model_val(model, X2, y):\n",
    "    # Split the dataset into training and testing sets, with 20% of the data used for testing\n",
    "    X_train, X_test, y_train, y_test = train_test_split(X2, y, test_size=0.2, random_state=42)\n",
    "\n",
    "    # Fit the model using the training data\n",
    "    model.fit(X_train, y_train)\n",
    "    \n",
    "    # Predict the outcomes for the test set\n",
    "    y_pred = model.predict(X_test)\n",
    "\n",
    "    # Print the accuracy of the model on the test set\n",
    "    print(f\"{model} accuracy is {accuracy_score(y_test, y_pred)}\")\n",
    "\n",
    "    # Perform cross-validation to evaluate model performance\n",
    "    score = cross_val_score(model, X2, y, cv=5)\n",
    "    \n",
    "    # Print the average cross-validation score\n",
    "    print(f\"{model} Avg cross val score is {np.mean(score)}\")\n",
    "\n",
    "    # Store the average cross-validation score in the model_df dictionary\n",
    "    model_df2[model] = round(np.mean(score) * 100, 2)\n"
   ]
  },
  {
   "cell_type": "code",
   "execution_count": 47,
   "id": "7023bd0c-cacb-4fd7-a821-535f5b2bb1ae",
   "metadata": {},
   "outputs": [
    {
     "data": {
      "text/plain": [
       "{}"
      ]
     },
     "execution_count": 47,
     "metadata": {},
     "output_type": "execute_result"
    }
   ],
   "source": [
    "model_df2 "
   ]
  },
  {
   "cell_type": "markdown",
   "id": "991a30b7-7fb7-4392-9c10-30640eb823d5",
   "metadata": {},
   "source": [
    "#### Random Forest Classifier"
   ]
  },
  {
   "cell_type": "code",
   "execution_count": 48,
   "id": "54b8788c-38e7-44e4-aee2-93ce8eeb0cb2",
   "metadata": {},
   "outputs": [
    {
     "name": "stdout",
     "output_type": "stream",
     "text": [
      "RandomForestClassifier() accuracy is 0.7886178861788617\n",
      "RandomForestClassifier() Avg cross val score is 0.783406637345062\n"
     ]
    }
   ],
   "source": [
    "model=RandomForestClassifier()\n",
    "model_val(model,X2,y)"
   ]
  },
  {
   "cell_type": "markdown",
   "id": "495e676f-c02a-4fe7-9a0d-fd50b2f83c21",
   "metadata": {},
   "source": [
    "#### Logistic Regression"
   ]
  },
  {
   "cell_type": "code",
   "execution_count": 49,
   "id": "760c111a-09c2-4721-9999-bbfc8944bdec",
   "metadata": {},
   "outputs": [
    {
     "name": "stdout",
     "output_type": "stream",
     "text": [
      "LogisticRegression() accuracy is 0.7886178861788617\n",
      "LogisticRegression() Avg cross val score is 0.809462881514061\n"
     ]
    }
   ],
   "source": [
    "model = LogisticRegression()\n",
    "model_val(model,X2,y)"
   ]
  },
  {
   "cell_type": "markdown",
   "id": "ad10a171-a8a4-4e8d-863d-c18545465518",
   "metadata": {},
   "source": [
    "#### Support Vector Classifier (SVC)"
   ]
  },
  {
   "cell_type": "code",
   "execution_count": 50,
   "id": "d6793489-2b90-4301-85f4-e134acc491d8",
   "metadata": {},
   "outputs": [
    {
     "name": "stdout",
     "output_type": "stream",
     "text": [
      "SVC() accuracy is 0.7804878048780488\n",
      "SVC() Avg cross val score is 0.7931627349060376\n"
     ]
    }
   ],
   "source": [
    "model =svm.SVC()\n",
    "model_val(model,X2,y)"
   ]
  },
  {
   "cell_type": "markdown",
   "id": "585beb93-e720-43b6-bb88-b78d091027e7",
   "metadata": {},
   "source": [
    "#### Decision Tree Classifier"
   ]
  },
  {
   "cell_type": "code",
   "execution_count": 51,
   "id": "5370f485-3fb1-427e-8996-02fe06d68c81",
   "metadata": {},
   "outputs": [
    {
     "name": "stdout",
     "output_type": "stream",
     "text": [
      "DecisionTreeClassifier() accuracy is 0.7235772357723578\n",
      "DecisionTreeClassifier() Avg cross val score is 0.70687724910036\n"
     ]
    }
   ],
   "source": [
    "model = DecisionTreeClassifier()\n",
    "model_val(model,X,y)"
   ]
  },
  {
   "cell_type": "markdown",
   "id": "17a85028-46d7-48f7-8012-66559ff597e6",
   "metadata": {},
   "source": [
    "#### Gradient Boosting Classifier"
   ]
  },
  {
   "cell_type": "code",
   "execution_count": 52,
   "id": "1973f85e-f678-45e2-8361-bd7eba7c4be3",
   "metadata": {},
   "outputs": [
    {
     "name": "stdout",
     "output_type": "stream",
     "text": [
      "GradientBoostingClassifier() accuracy is 0.7479674796747967\n",
      "GradientBoostingClassifier() Avg cross val score is 0.7785419165667067\n"
     ]
    }
   ],
   "source": [
    "model=GradientBoostingClassifier()\n",
    "model_val(model,X2,y)"
   ]
  },
  {
   "cell_type": "markdown",
   "id": "8a8ca0c2-3f40-4f97-bb9b-cbac8aaa6012",
   "metadata": {},
   "source": [
    "Observation: The models with the best cross validation scores ( using the log transformed data) are Logistic Regression with a sore of 80.95, SVC with a score of 79.32 andGradient Boosting Classifier with 78.18 .\n",
    "#### NOTE: The log transformed data yields better cross validation scores and accuracy results than the original data."
   ]
  },
  {
   "cell_type": "markdown",
   "id": "57ea17ea-c1c0-495b-8bb0-9126847edaa8",
   "metadata": {},
   "source": [
    "### Save the model with the highest accuracy which is Logistic Regression"
   ]
  },
  {
   "cell_type": "code",
   "execution_count": 53,
   "id": "c1f242ec-6fca-4200-b9ea-ddfb13326fe0",
   "metadata": {},
   "outputs": [],
   "source": [
    "import joblib"
   ]
  },
  {
   "cell_type": "markdown",
   "id": "3390deb8-ae21-4dc3-b69c-4c1d01a9c55b",
   "metadata": {},
   "source": [
    "#### Using Logistic Regression model on Log Transformed features"
   ]
  },
  {
   "cell_type": "code",
   "execution_count": 54,
   "id": "53863832-91ab-4622-b20d-428accdbf752",
   "metadata": {},
   "outputs": [
    {
     "data": {
      "text/html": [
       "<style>#sk-container-id-1 {color: black;background-color: white;}#sk-container-id-1 pre{padding: 0;}#sk-container-id-1 div.sk-toggleable {background-color: white;}#sk-container-id-1 label.sk-toggleable__label {cursor: pointer;display: block;width: 100%;margin-bottom: 0;padding: 0.3em;box-sizing: border-box;text-align: center;}#sk-container-id-1 label.sk-toggleable__label-arrow:before {content: \"▸\";float: left;margin-right: 0.25em;color: #696969;}#sk-container-id-1 label.sk-toggleable__label-arrow:hover:before {color: black;}#sk-container-id-1 div.sk-estimator:hover label.sk-toggleable__label-arrow:before {color: black;}#sk-container-id-1 div.sk-toggleable__content {max-height: 0;max-width: 0;overflow: hidden;text-align: left;background-color: #f0f8ff;}#sk-container-id-1 div.sk-toggleable__content pre {margin: 0.2em;color: black;border-radius: 0.25em;background-color: #f0f8ff;}#sk-container-id-1 input.sk-toggleable__control:checked~div.sk-toggleable__content {max-height: 200px;max-width: 100%;overflow: auto;}#sk-container-id-1 input.sk-toggleable__control:checked~label.sk-toggleable__label-arrow:before {content: \"▾\";}#sk-container-id-1 div.sk-estimator input.sk-toggleable__control:checked~label.sk-toggleable__label {background-color: #d4ebff;}#sk-container-id-1 div.sk-label input.sk-toggleable__control:checked~label.sk-toggleable__label {background-color: #d4ebff;}#sk-container-id-1 input.sk-hidden--visually {border: 0;clip: rect(1px 1px 1px 1px);clip: rect(1px, 1px, 1px, 1px);height: 1px;margin: -1px;overflow: hidden;padding: 0;position: absolute;width: 1px;}#sk-container-id-1 div.sk-estimator {font-family: monospace;background-color: #f0f8ff;border: 1px dotted black;border-radius: 0.25em;box-sizing: border-box;margin-bottom: 0.5em;}#sk-container-id-1 div.sk-estimator:hover {background-color: #d4ebff;}#sk-container-id-1 div.sk-parallel-item::after {content: \"\";width: 100%;border-bottom: 1px solid gray;flex-grow: 1;}#sk-container-id-1 div.sk-label:hover label.sk-toggleable__label {background-color: #d4ebff;}#sk-container-id-1 div.sk-serial::before {content: \"\";position: absolute;border-left: 1px solid gray;box-sizing: border-box;top: 0;bottom: 0;left: 50%;z-index: 0;}#sk-container-id-1 div.sk-serial {display: flex;flex-direction: column;align-items: center;background-color: white;padding-right: 0.2em;padding-left: 0.2em;position: relative;}#sk-container-id-1 div.sk-item {position: relative;z-index: 1;}#sk-container-id-1 div.sk-parallel {display: flex;align-items: stretch;justify-content: center;background-color: white;position: relative;}#sk-container-id-1 div.sk-item::before, #sk-container-id-1 div.sk-parallel-item::before {content: \"\";position: absolute;border-left: 1px solid gray;box-sizing: border-box;top: 0;bottom: 0;left: 50%;z-index: -1;}#sk-container-id-1 div.sk-parallel-item {display: flex;flex-direction: column;z-index: 1;position: relative;background-color: white;}#sk-container-id-1 div.sk-parallel-item:first-child::after {align-self: flex-end;width: 50%;}#sk-container-id-1 div.sk-parallel-item:last-child::after {align-self: flex-start;width: 50%;}#sk-container-id-1 div.sk-parallel-item:only-child::after {width: 0;}#sk-container-id-1 div.sk-dashed-wrapped {border: 1px dashed gray;margin: 0 0.4em 0.5em 0.4em;box-sizing: border-box;padding-bottom: 0.4em;background-color: white;}#sk-container-id-1 div.sk-label label {font-family: monospace;font-weight: bold;display: inline-block;line-height: 1.2em;}#sk-container-id-1 div.sk-label-container {text-align: center;}#sk-container-id-1 div.sk-container {/* jupyter's `normalize.less` sets `[hidden] { display: none; }` but bootstrap.min.css set `[hidden] { display: none !important; }` so we also need the `!important` here to be able to override the default hidden behavior on the sphinx rendered scikit-learn.org. See: https://github.com/scikit-learn/scikit-learn/issues/21755 */display: inline-block !important;position: relative;}#sk-container-id-1 div.sk-text-repr-fallback {display: none;}</style><div id=\"sk-container-id-1\" class=\"sk-top-container\"><div class=\"sk-text-repr-fallback\"><pre>LogisticRegression(max_iter=200)</pre><b>In a Jupyter environment, please rerun this cell to show the HTML representation or trust the notebook. <br />On GitHub, the HTML representation is unable to render, please try loading this page with nbviewer.org.</b></div><div class=\"sk-container\" hidden><div class=\"sk-item\"><div class=\"sk-estimator sk-toggleable\"><input class=\"sk-toggleable__control sk-hidden--visually\" id=\"sk-estimator-id-1\" type=\"checkbox\" checked><label for=\"sk-estimator-id-1\" class=\"sk-toggleable__label sk-toggleable__label-arrow\">LogisticRegression</label><div class=\"sk-toggleable__content\"><pre>LogisticRegression(max_iter=200)</pre></div></div></div></div></div>"
      ],
      "text/plain": [
       "LogisticRegression(max_iter=200)"
      ]
     },
     "execution_count": 54,
     "metadata": {},
     "output_type": "execute_result"
    }
   ],
   "source": [
    "log_reg = LogisticRegression(max_iter=200)  # Create a Logistic Regression model with max 200 iterations\n",
    "log_reg.fit(X2, y)  # Train the model on the feature set X2 and target variable y"
   ]
  },
  {
   "cell_type": "code",
   "execution_count": 55,
   "id": "e7524ccb-2c91-4249-970d-8f35b2562550",
   "metadata": {},
   "outputs": [
    {
     "data": {
      "text/plain": [
       "['loan_status_predictor']"
      ]
     },
     "execution_count": 55,
     "metadata": {},
     "output_type": "execute_result"
    }
   ],
   "source": [
    "joblib.dump(log_reg, 'loan_status_predictor')  # Save the trained Logistic Regression model to a file named 'loan_status_predictor'"
   ]
  },
  {
   "cell_type": "code",
   "execution_count": 56,
   "id": "eca61169-d2fa-492c-bebc-aafe6efa5ea4",
   "metadata": {},
   "outputs": [],
   "source": [
    "model=joblib.load('loan_status_predictor') # Load the saved Logistic Regression model from the file 'loan_status_predictor'"
   ]
  },
  {
   "cell_type": "code",
   "execution_count": 57,
   "id": "34b44357-2647-450c-9fc3-02c61caa29ff",
   "metadata": {},
   "outputs": [
    {
     "data": {
      "text/plain": [
       "Index(['Loan_ID', 'Gender', 'Married', 'Dependents', 'Education',\n",
       "       'Self_Employed', 'ApplicantIncome', 'CoapplicantIncome', 'LoanAmount',\n",
       "       'Loan_Amount_Term', 'Credit_History', 'Property_Area', 'Loan_Status',\n",
       "       'LoanAmount_log', 'TotalIncome', 'TotalIncome_log'],\n",
       "      dtype='object')"
      ]
     },
     "execution_count": 57,
     "metadata": {},
     "output_type": "execute_result"
    }
   ],
   "source": [
    "data.columns"
   ]
  },
  {
   "cell_type": "code",
   "execution_count": 58,
   "id": "65db3a49-25bf-4202-81c5-9fe577348ecf",
   "metadata": {},
   "outputs": [
    {
     "data": {
      "text/plain": [
       "8.180320874773685"
      ]
     },
     "execution_count": 58,
     "metadata": {},
     "output_type": "execute_result"
    }
   ],
   "source": [
    "new_applicant_income_log = np.log1p(3569)  # Calculate the log of 3569 (Applicant Income) using log1p for better handling of small values\n",
    "new_applicant_income_log  # Display the logged applicant income"
   ]
  },
  {
   "cell_type": "code",
   "execution_count": 59,
   "id": "0c77ab2c-83fd-4a63-b769-88ead4711c05",
   "metadata": {},
   "outputs": [
    {
     "data": {
      "text/plain": [
       "6.90875477931522"
      ]
     },
     "execution_count": 59,
     "metadata": {},
     "output_type": "execute_result"
    }
   ],
   "source": [
    "loan_amount_log = np.log1p(1000)  # Calculate the log of 1000 (loan_amount) using log1p for better handling of small values\n",
    "loan_amount_log # Display the logged loan_amount"
   ]
  },
  {
   "cell_type": "code",
   "execution_count": 60,
   "id": "7f7e07c5-98c4-45ae-90b3-cd9f4393ebd4",
   "metadata": {},
   "outputs": [],
   "source": [
    "df=pd.DataFrame({'Gender':0, #male\n",
    "                 'Married':1, # single\n",
    "                 'Dependents': 1, # 1 child\n",
    "                 'Education': 0, # Graduate\n",
    "                 'Self_Employed': 0, # Not self employed\n",
    "                 'LoanAmount_log':6.9087547793, # loan amount 1000\n",
    "                 'TotalIncome_log':8.1803208747, # applicant income = 3569\n",
    "                 'Loan_Amount_Term':360, # loan term \n",
    "                 'Credit_History':1, # with a credit history\n",
    "                 'Property_Area':1 #Rural\n",
    "      \n",
    "    \n",
    "}, index=[0])"
   ]
  },
  {
   "cell_type": "code",
   "execution_count": 61,
   "id": "4996633a-c752-4369-bbb7-93d84f0ab78b",
   "metadata": {},
   "outputs": [
    {
     "data": {
      "text/html": [
       "<div>\n",
       "<style scoped>\n",
       "    .dataframe tbody tr th:only-of-type {\n",
       "        vertical-align: middle;\n",
       "    }\n",
       "\n",
       "    .dataframe tbody tr th {\n",
       "        vertical-align: top;\n",
       "    }\n",
       "\n",
       "    .dataframe thead th {\n",
       "        text-align: right;\n",
       "    }\n",
       "</style>\n",
       "<table border=\"1\" class=\"dataframe\">\n",
       "  <thead>\n",
       "    <tr style=\"text-align: right;\">\n",
       "      <th></th>\n",
       "      <th>Gender</th>\n",
       "      <th>Married</th>\n",
       "      <th>Dependents</th>\n",
       "      <th>Education</th>\n",
       "      <th>Self_Employed</th>\n",
       "      <th>LoanAmount_log</th>\n",
       "      <th>TotalIncome_log</th>\n",
       "      <th>Loan_Amount_Term</th>\n",
       "      <th>Credit_History</th>\n",
       "      <th>Property_Area</th>\n",
       "    </tr>\n",
       "  </thead>\n",
       "  <tbody>\n",
       "    <tr>\n",
       "      <th>0</th>\n",
       "      <td>0</td>\n",
       "      <td>1</td>\n",
       "      <td>1</td>\n",
       "      <td>0</td>\n",
       "      <td>0</td>\n",
       "      <td>6.908755</td>\n",
       "      <td>8.180321</td>\n",
       "      <td>360</td>\n",
       "      <td>1</td>\n",
       "      <td>1</td>\n",
       "    </tr>\n",
       "  </tbody>\n",
       "</table>\n",
       "</div>"
      ],
      "text/plain": [
       "   Gender  Married  Dependents  Education  Self_Employed  LoanAmount_log  \\\n",
       "0       0        1           1          0              0        6.908755   \n",
       "\n",
       "   TotalIncome_log  Loan_Amount_Term  Credit_History  Property_Area  \n",
       "0         8.180321               360               1              1  "
      ]
     },
     "execution_count": 61,
     "metadata": {},
     "output_type": "execute_result"
    }
   ],
   "source": [
    "df"
   ]
  },
  {
   "cell_type": "code",
   "execution_count": 62,
   "id": "eaaa8054-4d73-47c6-be68-dc9cd2df52a0",
   "metadata": {},
   "outputs": [],
   "source": [
    "result = model.predict(df) # Use the trained model to predict loan status based on the features in the DataFrame 'df'"
   ]
  },
  {
   "cell_type": "code",
   "execution_count": 63,
   "id": "bc33a261-3ced-4605-b4b3-9acf9aae36c0",
   "metadata": {},
   "outputs": [
    {
     "name": "stdout",
     "output_type": "stream",
     "text": [
      "Loan not Approved\n"
     ]
    }
   ],
   "source": [
    "if result==1:\n",
    "    print(\"Loan Approved\")\n",
    "else:\n",
    "     print(\"Loan not Approved\")"
   ]
  },
  {
   "cell_type": "markdown",
   "id": "86af5e35-5c79-4bd8-89ab-d2d4c6e8334c",
   "metadata": {},
   "source": [
    "#### Using Logistic Regression model on the Original features"
   ]
  },
  {
   "cell_type": "code",
   "execution_count": 64,
   "id": "305d1356-4490-4564-b590-eb486352bb38",
   "metadata": {},
   "outputs": [
    {
     "data": {
      "text/html": [
       "<style>#sk-container-id-2 {color: black;background-color: white;}#sk-container-id-2 pre{padding: 0;}#sk-container-id-2 div.sk-toggleable {background-color: white;}#sk-container-id-2 label.sk-toggleable__label {cursor: pointer;display: block;width: 100%;margin-bottom: 0;padding: 0.3em;box-sizing: border-box;text-align: center;}#sk-container-id-2 label.sk-toggleable__label-arrow:before {content: \"▸\";float: left;margin-right: 0.25em;color: #696969;}#sk-container-id-2 label.sk-toggleable__label-arrow:hover:before {color: black;}#sk-container-id-2 div.sk-estimator:hover label.sk-toggleable__label-arrow:before {color: black;}#sk-container-id-2 div.sk-toggleable__content {max-height: 0;max-width: 0;overflow: hidden;text-align: left;background-color: #f0f8ff;}#sk-container-id-2 div.sk-toggleable__content pre {margin: 0.2em;color: black;border-radius: 0.25em;background-color: #f0f8ff;}#sk-container-id-2 input.sk-toggleable__control:checked~div.sk-toggleable__content {max-height: 200px;max-width: 100%;overflow: auto;}#sk-container-id-2 input.sk-toggleable__control:checked~label.sk-toggleable__label-arrow:before {content: \"▾\";}#sk-container-id-2 div.sk-estimator input.sk-toggleable__control:checked~label.sk-toggleable__label {background-color: #d4ebff;}#sk-container-id-2 div.sk-label input.sk-toggleable__control:checked~label.sk-toggleable__label {background-color: #d4ebff;}#sk-container-id-2 input.sk-hidden--visually {border: 0;clip: rect(1px 1px 1px 1px);clip: rect(1px, 1px, 1px, 1px);height: 1px;margin: -1px;overflow: hidden;padding: 0;position: absolute;width: 1px;}#sk-container-id-2 div.sk-estimator {font-family: monospace;background-color: #f0f8ff;border: 1px dotted black;border-radius: 0.25em;box-sizing: border-box;margin-bottom: 0.5em;}#sk-container-id-2 div.sk-estimator:hover {background-color: #d4ebff;}#sk-container-id-2 div.sk-parallel-item::after {content: \"\";width: 100%;border-bottom: 1px solid gray;flex-grow: 1;}#sk-container-id-2 div.sk-label:hover label.sk-toggleable__label {background-color: #d4ebff;}#sk-container-id-2 div.sk-serial::before {content: \"\";position: absolute;border-left: 1px solid gray;box-sizing: border-box;top: 0;bottom: 0;left: 50%;z-index: 0;}#sk-container-id-2 div.sk-serial {display: flex;flex-direction: column;align-items: center;background-color: white;padding-right: 0.2em;padding-left: 0.2em;position: relative;}#sk-container-id-2 div.sk-item {position: relative;z-index: 1;}#sk-container-id-2 div.sk-parallel {display: flex;align-items: stretch;justify-content: center;background-color: white;position: relative;}#sk-container-id-2 div.sk-item::before, #sk-container-id-2 div.sk-parallel-item::before {content: \"\";position: absolute;border-left: 1px solid gray;box-sizing: border-box;top: 0;bottom: 0;left: 50%;z-index: -1;}#sk-container-id-2 div.sk-parallel-item {display: flex;flex-direction: column;z-index: 1;position: relative;background-color: white;}#sk-container-id-2 div.sk-parallel-item:first-child::after {align-self: flex-end;width: 50%;}#sk-container-id-2 div.sk-parallel-item:last-child::after {align-self: flex-start;width: 50%;}#sk-container-id-2 div.sk-parallel-item:only-child::after {width: 0;}#sk-container-id-2 div.sk-dashed-wrapped {border: 1px dashed gray;margin: 0 0.4em 0.5em 0.4em;box-sizing: border-box;padding-bottom: 0.4em;background-color: white;}#sk-container-id-2 div.sk-label label {font-family: monospace;font-weight: bold;display: inline-block;line-height: 1.2em;}#sk-container-id-2 div.sk-label-container {text-align: center;}#sk-container-id-2 div.sk-container {/* jupyter's `normalize.less` sets `[hidden] { display: none; }` but bootstrap.min.css set `[hidden] { display: none !important; }` so we also need the `!important` here to be able to override the default hidden behavior on the sphinx rendered scikit-learn.org. See: https://github.com/scikit-learn/scikit-learn/issues/21755 */display: inline-block !important;position: relative;}#sk-container-id-2 div.sk-text-repr-fallback {display: none;}</style><div id=\"sk-container-id-2\" class=\"sk-top-container\"><div class=\"sk-text-repr-fallback\"><pre>LogisticRegression(max_iter=200)</pre><b>In a Jupyter environment, please rerun this cell to show the HTML representation or trust the notebook. <br />On GitHub, the HTML representation is unable to render, please try loading this page with nbviewer.org.</b></div><div class=\"sk-container\" hidden><div class=\"sk-item\"><div class=\"sk-estimator sk-toggleable\"><input class=\"sk-toggleable__control sk-hidden--visually\" id=\"sk-estimator-id-2\" type=\"checkbox\" checked><label for=\"sk-estimator-id-2\" class=\"sk-toggleable__label sk-toggleable__label-arrow\">LogisticRegression</label><div class=\"sk-toggleable__content\"><pre>LogisticRegression(max_iter=200)</pre></div></div></div></div></div>"
      ],
      "text/plain": [
       "LogisticRegression(max_iter=200)"
      ]
     },
     "execution_count": 64,
     "metadata": {},
     "output_type": "execute_result"
    }
   ],
   "source": [
    "log_regress = LogisticRegression(max_iter=200)  # Create a Logistic Regression model with max 200 iterations\n",
    "log_regress.fit(X, y)  # Train the model on the feature set X and target variable y"
   ]
  },
  {
   "cell_type": "code",
   "execution_count": 65,
   "id": "2ddcef2a-eb60-462d-9e01-938a7a170427",
   "metadata": {},
   "outputs": [
    {
     "data": {
      "text/plain": [
       "['loan_status_predict']"
      ]
     },
     "execution_count": 65,
     "metadata": {},
     "output_type": "execute_result"
    }
   ],
   "source": [
    "joblib.dump(log_regress, 'loan_status_predict') # Save the trained Logistic Regression model to a file named 'loan_status_predict'"
   ]
  },
  {
   "cell_type": "code",
   "execution_count": 66,
   "id": "19513a42-edf5-4c32-a485-da7caed0a23e",
   "metadata": {},
   "outputs": [],
   "source": [
    "model2=joblib.load('loan_status_predict')# Load the saved Logistic Regression model from the file 'loan_status_predict'"
   ]
  },
  {
   "cell_type": "code",
   "execution_count": 67,
   "id": "2038dafb-05f2-47e4-bd91-05e920190ed1",
   "metadata": {},
   "outputs": [],
   "source": [
    "df2=pd.DataFrame({'Gender':0, #male\n",
    "                 'Married':1, # single\n",
    "                 'Dependents': 1, # 1 child\n",
    "                 'Education': 0, # Graduate\n",
    "                 'Self_Employed': 0, # Not self employed\n",
    "                 'ApplicantIncome':3569, # applicant income = 3569\n",
    "                 'CoapplicantIncome':0.0,\n",
    "                 'LoanAmount':1000,\n",
    "                 'Loan_Amount_Term':360, # loan term \n",
    "                 'Credit_History':1, # with a credit history\n",
    "                 'Property_Area':1 #Rural\n",
    "      \n",
    "    \n",
    "}, index=[0])"
   ]
  },
  {
   "cell_type": "code",
   "execution_count": 68,
   "id": "806d0b01-e856-4559-ac46-e5b928942e57",
   "metadata": {},
   "outputs": [
    {
     "data": {
      "text/html": [
       "<div>\n",
       "<style scoped>\n",
       "    .dataframe tbody tr th:only-of-type {\n",
       "        vertical-align: middle;\n",
       "    }\n",
       "\n",
       "    .dataframe tbody tr th {\n",
       "        vertical-align: top;\n",
       "    }\n",
       "\n",
       "    .dataframe thead th {\n",
       "        text-align: right;\n",
       "    }\n",
       "</style>\n",
       "<table border=\"1\" class=\"dataframe\">\n",
       "  <thead>\n",
       "    <tr style=\"text-align: right;\">\n",
       "      <th></th>\n",
       "      <th>Gender</th>\n",
       "      <th>Married</th>\n",
       "      <th>Dependents</th>\n",
       "      <th>Education</th>\n",
       "      <th>Self_Employed</th>\n",
       "      <th>ApplicantIncome</th>\n",
       "      <th>CoapplicantIncome</th>\n",
       "      <th>LoanAmount</th>\n",
       "      <th>Loan_Amount_Term</th>\n",
       "      <th>Credit_History</th>\n",
       "      <th>Property_Area</th>\n",
       "    </tr>\n",
       "  </thead>\n",
       "  <tbody>\n",
       "    <tr>\n",
       "      <th>0</th>\n",
       "      <td>0</td>\n",
       "      <td>1</td>\n",
       "      <td>1</td>\n",
       "      <td>0</td>\n",
       "      <td>0</td>\n",
       "      <td>3569</td>\n",
       "      <td>0.0</td>\n",
       "      <td>1000</td>\n",
       "      <td>360</td>\n",
       "      <td>1</td>\n",
       "      <td>1</td>\n",
       "    </tr>\n",
       "  </tbody>\n",
       "</table>\n",
       "</div>"
      ],
      "text/plain": [
       "   Gender  Married  Dependents  Education  Self_Employed  ApplicantIncome  \\\n",
       "0       0        1           1          0              0             3569   \n",
       "\n",
       "   CoapplicantIncome  LoanAmount  Loan_Amount_Term  Credit_History  \\\n",
       "0                0.0        1000               360               1   \n",
       "\n",
       "   Property_Area  \n",
       "0              1  "
      ]
     },
     "execution_count": 68,
     "metadata": {},
     "output_type": "execute_result"
    }
   ],
   "source": [
    "df2"
   ]
  },
  {
   "cell_type": "code",
   "execution_count": 69,
   "id": "0684a3ea-03ee-4d8a-a926-73d32491d1de",
   "metadata": {},
   "outputs": [],
   "source": [
    "result2 = model2.predict(df2)  # Use the trained model to predict loan status based on the features in the DataFrame 'df2'"
   ]
  },
  {
   "cell_type": "code",
   "execution_count": 70,
   "id": "e9d90235-8d3e-4bd4-93b8-853d4356ace8",
   "metadata": {},
   "outputs": [
    {
     "name": "stdout",
     "output_type": "stream",
     "text": [
      "Loan Approved\n"
     ]
    }
   ],
   "source": [
    "if result2==1:\n",
    "    print(\"Loan Approved\")\n",
    "else:\n",
    "     print(\"Loan not Approved\")"
   ]
  },
  {
   "cell_type": "markdown",
   "id": "492ebfac-2f39-4a96-b980-3cdd7408c711",
   "metadata": {},
   "source": [
    "### The loan is approved in both cases"
   ]
  },
  {
   "cell_type": "code",
   "execution_count": 71,
   "id": "da3d4dca-10ed-4768-a525-e123e23401a3",
   "metadata": {},
   "outputs": [
    {
     "data": {
      "image/png": "[encoded data removed]",
      "text/plain": [
       "<Figure size 900x500 with 1 Axes>"
      ]
     },
     "metadata": {},
     "output_type": "display_data"
    }
   ],
   "source": [
    "feature_importance = pd.DataFrame({\n",
    "    'Feature': X.columns, \n",
    "    'Importance': model2.coef_[0]  # For logistic regression\n",
    "})\n",
    "\n",
    "# Sort by importance\n",
    "feature_importance = feature_importance.sort_values(by='Importance', ascending=False)\n",
    "\n",
    "# Plotting the feature importance\n",
    "plt.figure(figsize=(9, 5))\n",
    "sns.barplot(x='Importance', y='Feature', data=feature_importance)\n",
    "plt.title('Feature Importance - Logistic Regression')\n",
    "plt.show()"
   ]
  }
 ],
 "metadata": {
  "kernelspec": {
   "display_name": "Python 3 (ipykernel)",
   "language": "python",
   "name": "python3"
  },
  "language_info": {
   "codemirror_mode": {
    "name": "ipython",
    "version": 3
   },
   "file_extension": ".py",
   "mimetype": "text/x-python",
   "name": "python",
   "nbconvert_exporter": "python",
   "pygments_lexer": "ipython3",
   "version": "3.11.7"
  }
 },
 "nbformat": 4,
 "nbformat_minor": 5
}
